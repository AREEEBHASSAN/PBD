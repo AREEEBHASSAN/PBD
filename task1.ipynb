{
 "cells": [
  {
   "cell_type": "markdown",
   "id": "315e0def",
   "metadata": {},
   "source": [
    "# QUESTION 1:\n",
    "x=int(input(\"Enter a number\"))\n",
    "y=int(input(\"Enter a number\"))\n",
    "if x>y:\n",
    "    print(x,\" is Grater NUM\",y)\n",
    "elif x<y:\n",
    "    print(x,\" is lesser NUM\",y)\n",
    "\n",
    "    "
   ]
  },
  {
   "cell_type": "markdown",
   "id": "8c312012",
   "metadata": {},
   "source": [
    "# Question 2: \n",
    "x=int(input(\"Enter a number\"))\n",
    "if x==1:\n",
    "    print(x,\"= I\")\n",
    "elif x==2:\n",
    "    print(x,\"= II\")\n",
    "elif x==3:\n",
    "    print(x,\"= III\")\n",
    "elif x==4:\n",
    "    print(x,\"= IV\")\n",
    "elif x==5:\n",
    "    print(x,\"= V\")\n",
    "elif x==6:\n",
    "    print(x,\"= VI\")\n",
    "elif x==7:\n",
    "    print(x,\"= VII\")\n",
    "elif x==8:\n",
    "    print(x,\"= VIII\")\n",
    "elif x==9:\n",
    "    print(x,\"= IX\")\n",
    "elif x==10:\n",
    "    print(x,\"= X\")\n",
    "else:\n",
    "    print(x,\"INVALID NUMBER SHOULD BE LESSER THAN 10!!!!!\")"
   ]
  },
  {
   "cell_type": "markdown",
   "id": "0aec66d4",
   "metadata": {},
   "source": [
    "#### "
   ]
  },
  {
   "cell_type": "markdown",
   "id": "511d0d2f",
   "metadata": {},
   "source": []
  },
  {
   "cell_type": "markdown",
   "id": "bfd841af",
   "metadata": {},
   "source": [
    "# Question 3:\n",
    "x=int(input(\"Enter a DATE\"))\n",
    "y=int(input(\"Enter a MONTH\"))\n",
    "z=int(input(\"Enter last two digits of year\"))\n",
    "if x*y==z:\n",
    "    print(\"MAGIC DATES\")\n",
    "else:\n",
    "    print(\"NOT MAGIC DATES\")"
   ]
  },
  {
   "cell_type": "markdown",
   "id": "7b501412",
   "metadata": {},
   "source": [
    "# Question 4:\n",
    "print(\"RECTANGLE 1\")\n",
    "x=int(input(\"Enter a lenght\"))\n",
    "y=int(input(\"Enter a width\"))\n",
    "print (\"RECTANGLE 2\")\n",
    "z=int(input(\"Enter a lenght\"))\n",
    "h=int(input(\"Enter a width\"))\n",
    "if x*y>z*h:\n",
    "    print(\"Rectangle 1 is grater\")\n",
    "elif x*y<z*h:\n",
    "    print(\"Rectangle 2 is grater\")\n",
    "elif x*y==z*h:\n",
    "    print(\"Area are same\")\n"
   ]
  },
  {
   "cell_type": "markdown",
   "id": "587dc77a",
   "metadata": {},
   "source": [
    "# Question 5\n",
    "x=int(input(\"Enter a number: \"))\n",
    "if x==0:\n",
    "    print(x,\" 0\")\n",
    "elif x==1:\n",
    "    print(x,\" 5\")\n",
    "elif x==2:\n",
    "    print(x,\" 10\")\n",
    "elif x==3:\n",
    "    print(x,\" 15\")\n",
    "elif x>=4:\n",
    "    print(x,\" 30\")"
   ]
  },
  {
   "cell_type": "markdown",
   "id": "19695012",
   "metadata": {},
   "source": [
    "# Question 6\n",
    "x=int(input(\"Enter a mass\"))\n",
    "y=int(x*9.8)\n",
    "\n",
    "if y>1000:\n",
    "    print(y,\"too heavy\")\n",
    "elif y<10:\n",
    "    print(y,\"two low\")\n",
    "else:\n",
    "    print(y,\"NORMAL\")\n"
   ]
  },
  {
   "cell_type": "markdown",
   "id": "ce0dbc19",
   "metadata": {},
   "source": [
    "# Question 7\n",
    "x=int(input(\"Enter number of second\"))\n",
    "y=int(x/3600/24)\n",
    "print(y,\"day\")\n",
    "print(\"NUMBER SHOULD BE GRATER THAN 3600 OR LESSER THAN 86400\")\n",
    "x=int(input(\"Enter number of second\"))\n",
    "if x>=3600 and x<86400:\n",
    "    y=x/3600\n",
    "    print(y,\"hours\")\n",
    "else:\n",
    "    print(\"INVALID ENTRY!!!!!\")\n",
    "print(\"NUMBER SHOULD BE GRATER THAN 60 OR LESSER THAN 3600\")\n",
    "x=int(input(\"Enter number of second\"))\n",
    "if x>=60and x<=3600:\n",
    "    x=x/60\n",
    "    print(x)\n",
    "else:\n",
    "     print(\"INVALID ENTRY!!!!!\")\n"
   ]
  },
  {
   "cell_type": "markdown",
   "id": "c48c2b8c",
   "metadata": {},
   "source": [
    "# Question 8\n",
    "sum=0\n",
    "x=int(input(\"Enter a num\"))\n",
    "if x<0:\n",
    "    print(\"invalid\")\n",
    "else:\n",
    "    for x in range(1,x,1):\n",
    "        sum=sum+x\n",
    "        print(sum)"
   ]
  },
  {
   "cell_type": "code",
   "execution_count": null,
   "id": "84bbfa17",
   "metadata": {},
   "outputs": [],
   "source": []
  },
  {
   "cell_type": "code",
   "execution_count": null,
   "id": "0287cef2",
   "metadata": {},
   "outputs": [],
   "source": []
  }
 ],
 "metadata": {
  "kernelspec": {
   "display_name": "Python 3 (ipykernel)",
   "language": "python",
   "name": "python3"
  },
  "language_info": {
   "codemirror_mode": {
    "name": "ipython",
    "version": 3
   },
   "file_extension": ".py",
   "mimetype": "text/x-python",
   "name": "python",
   "nbconvert_exporter": "python",
   "pygments_lexer": "ipython3",
   "version": "3.9.7"
  }
 },
 "nbformat": 4,
 "nbformat_minor": 5
}
